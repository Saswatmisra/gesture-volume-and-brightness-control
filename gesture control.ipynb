{
 "cells": [
  {
   "cell_type": "code",
   "execution_count": 1,
   "id": "4707ae4e-e6cc-4278-a738-7f90418d0963",
   "metadata": {},
   "outputs": [],
   "source": [
    "import cv2\n",
    "import numpy as np\n",
    "import mediapipe as mp\n",
    "from math import hypot\n",
    "import screen_brightness_control as bc\n",
    "from pycaw.pycaw import AudioUtilities, IAudioEndpointVolume\n",
    "from ctypes import cast, POINTER\n",
    "from comtypes import CLSCTX_ALL"
   ]
  },
  {
   "cell_type": "code",
   "execution_count": 2,
   "id": "ca1f8da6-a91d-4af0-9d01-e06fde22eef5",
   "metadata": {},
   "outputs": [],
   "source": [
    "def main():\n",
    "    devices = AudioUtilities.GetSpeakers()\n",
    "    interface = devices.Activate(IAudioEndpointVolume._iid_, CLSCTX_ALL, None)\n",
    "    volume = cast(interface, POINTER(IAudioEndpointVolume))\n",
    "    volRange = volume.GetVolumeRange()\n",
    "    minVol, maxVol, _ = volRange\n",
    "    mpHands = mp.solutions.hands\n",
    "\n",
    "    hands = mpHands.Hands(static_image_mode=False, max_num_hands=2, model_complexity=1, min_detection_confidence=0.75, min_tracking_confidence=0.75)\n",
    "\n",
    "    draw = mp.solutions.drawing_utils\n",
    "    cap = cv2.VideoCapture(0)\n",
    "    try:\n",
    "        while cap.isOpened():\n",
    "            ret,frame = cap.read()\n",
    "            if not ret:\n",
    "                break\n",
    "            frame = cv2.flip(frame,1)\n",
    "            frameRGB = cv2.cvtColor(frame, cv2.COLOR_BGR2RGB)\n",
    "            processed = hands.process(frameRGB)\n",
    "\n",
    "            left_landmark_list, right_landmark_list = get_left_right_landmarks(frame, processed, draw, mpHands)\n",
    "\n",
    "            if left_landmark_list:\n",
    "                left_distance = get_distance(frame, left_landmark_list)\n",
    "                b_level = np.interp(left_distance, [50,220], [0,100])\n",
    "                bc.set_brightness(b_level)\n",
    "            if  right_landmark_list:\n",
    "                right_distance = get_distance(frame, right_landmark_list)\n",
    "                vol = np.interp(right_distance, [50,220], [minVol, maxVol])\n",
    "                volume.SetMasterVolumeLevel(vol, None)\n",
    "                \n",
    "\n",
    "            \n",
    "            cv2.imshow('frame',frame)\n",
    "\n",
    "            if cv2.waitKey(1) & 0xFF == 27:\n",
    "                break\n",
    "    finally:\n",
    "        cap.release()\n",
    "        cv2.destroyAllWindows()\n",
    "\n",
    "def get_left_right_landmarks(frame, processed, draw, hands):\n",
    "    left_landmarks_list = []\n",
    "    right_landmarks_list = []\n",
    "   \n",
    "\n",
    "    if processed.multi_hand_landmarks:\n",
    "        for handlm in processed.multi_hand_landmarks:\n",
    "            for idx, found_landmark in enumerate(handlm.landmark):\n",
    "\n",
    "                height, width, _ = frame.shape\n",
    "\n",
    "                x, y = int(found_landmark.x * width), int(found_landmark.y * height)\n",
    "\n",
    "                if idx == 4 or idx == 8:\n",
    "                    landmark = [idx, x,y]\n",
    "\n",
    "                    if handlm == processed.multi_hand_landmarks[0]:\n",
    "                        left_landmarks_list.append(landmark)\n",
    "                    elif handlm == processed.multi_hand_landmarks[1]:\n",
    "                        right_landmarks_list.append(landmark)\n",
    "\n",
    "        draw.draw_landmarks(frame, handlm, hands.HAND_CONNECTIONS)\n",
    "    return left_landmarks_list, right_landmarks_list\n",
    "\n",
    "def get_distance(frame, landmark_list):\n",
    "    if len(landmark_list)<2:\n",
    "        return\n",
    "\n",
    "    (x1, y1) , (x2, y2) = (landmark_list[0][1], landmark_list[0][2]), (landmark_list[1][1], landmark_list[1][2])\n",
    "\n",
    "    cv2.circle(frame, (x1,y1), 7, (0,255,0), cv2.FILLED)\n",
    "    cv2.circle(frame, (x2, y2), 7, (0,255,0), cv2.FILLED)\n",
    "    cv2.line(frame,  (x1,y1), (x2, y2), (0,255,0), 3)\n",
    "\n",
    "    L = hypot(x2-x1, y2-y1)\n",
    "    return L"
   ]
  },
  {
   "cell_type": "code",
   "execution_count": 3,
   "id": "2b5912ed-846f-4488-8005-1b08523a1313",
   "metadata": {},
   "outputs": [
    {
     "name": "stderr",
     "output_type": "stream",
     "text": [
      "C:\\Users\\KIIT\\AppData\\Roaming\\Python\\Python311\\site-packages\\google\\protobuf\\symbol_database.py:55: UserWarning: SymbolDatabase.GetPrototype() is deprecated. Please use message_factory.GetMessageClass() instead. SymbolDatabase.GetPrototype() will be removed soon.\n",
      "  warnings.warn('SymbolDatabase.GetPrototype() is deprecated. Please '\n"
     ]
    }
   ],
   "source": [
    "if __name__ == '__main__':\n",
    "    main();"
   ]
  },
  {
   "cell_type": "code",
   "execution_count": null,
   "id": "9f89cf6b-6505-4a48-af9b-0fe5cf4db9ea",
   "metadata": {},
   "outputs": [],
   "source": []
  },
  {
   "cell_type": "code",
   "execution_count": null,
   "id": "13edba99-42cd-41f6-b2db-5e3fbd8da521",
   "metadata": {},
   "outputs": [],
   "source": []
  }
 ],
 "metadata": {
  "kernelspec": {
   "display_name": "Python 3 (ipykernel)",
   "language": "python",
   "name": "python3"
  },
  "language_info": {
   "codemirror_mode": {
    "name": "ipython",
    "version": 3
   },
   "file_extension": ".py",
   "mimetype": "text/x-python",
   "name": "python",
   "nbconvert_exporter": "python",
   "pygments_lexer": "ipython3",
   "version": "3.11.5"
  }
 },
 "nbformat": 4,
 "nbformat_minor": 5
}
